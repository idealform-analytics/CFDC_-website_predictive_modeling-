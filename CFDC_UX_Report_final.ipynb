{
 "cells": [
  {
   "cell_type": "markdown",
   "metadata": {},
   "source": [
    "## Imports all required packages for Data cleansing and modeling "
   ]
  },
  {
   "cell_type": "code",
   "execution_count": 2,
   "metadata": {},
   "outputs": [],
   "source": [
    "import pandas as pd\n",
    "import numpy as np \n",
    "from sklearn.ensemble import RandomForestClassifier as RFC\n",
    "from sklearn.ensemble import GradientBoostingClassifier  as GBC\n",
    "from xgboost.sklearn import XGBClassifier as XGB\n",
    "from apyori import apriori as ap\n",
    "import matplotlib.pyplot as plt\n",
    "from datetime import datetime\n",
    "import time\n",
    "import json\n",
    "from pandas.io.json import json_normalize\n",
    "import warnings\n",
    "warnings.filterwarnings(\"ignore\")"
   ]
  },
  {
   "cell_type": "markdown",
   "metadata": {},
   "source": [
    "## Data Import and Cleansing \n",
    "### 1) Imports data from json to csv converter and renames columns for convienience\n",
    "### 2) Retitles page visits that show the workout for a particular day to \"Workout for THAT Day\". This is done for congruency across the data to indicate when a user intended to visit a page designated for the workout of the day\n",
    "  "
   ]
  },
  {
   "cell_type": "code",
   "execution_count": 3,
   "metadata": {},
   "outputs": [],
   "source": [
    "cfdc_new = pd.read_csv('C:/Users/nathan.ellis/Documents/Python Scripts/results.csv')\n",
    "\n",
    "new_columns = ['user','date', 'goal', 'revenue', 'session_count', 'session_duration', 'device',\n",
    "               'channel', 'page_viewed', 'time', 'type', 'page_title', 'page_url', 'title']\n",
    "\n",
    "cfdc_new.columns = new_columns\n",
    "\n",
    "cfdc_new.date = pd.to_datetime(cfdc_new.date)\n",
    "\n",
    "cfdc = cfdc_new.copy()"
   ]
  },
  {
   "cell_type": "code",
   "execution_count": 4,
   "metadata": {},
   "outputs": [],
   "source": [
    "title_list = list(cfdc.page_title)\n",
    "\n",
    "c = []\n",
    "\n",
    "for i in range(0, len(title_list), 1):\n",
    "    a = title_list[i]\n",
    "    monday = a.find('Monday')\n",
    "    tuesday = a.find('Tuesday')\n",
    "    wednesday = a.find('Wednesday')\n",
    "    thursday = a.find('Thursday')\n",
    "    friday = a.find('Friday')\n",
    "    saturday = a.find('Saturday')\n",
    "    sunday = a.find('Sunday')\n",
    "    \n",
    "    if (sunday >=0) | (monday >=0)| (tuesday >=0)| (wednesday >=0)| (thursday >=0)| (friday >=0)| (saturday >=0):  \n",
    "        b = title_list[i] \n",
    "        b = b.replace(a, 'Workout for THAT Day')\n",
    "        c.append(b)\n",
    "    else:\n",
    "        c.append(a)\n",
    "cfdc['page_title'] = c"
   ]
  },
  {
   "cell_type": "markdown",
   "metadata": {},
   "source": [
    "### New session count \n",
    "\n",
    "#### 1) Function creates and enumerates each session that the user genreates while on CFDC website"
   ]
  },
  {
   "cell_type": "code",
   "execution_count": 5,
   "metadata": {
    "scrolled": true
   },
   "outputs": [],
   "source": [
    "\n",
    "### I had to use this instead of np.where because of labeling the unique sessions\n",
    "\n",
    "cfdc['new_session'] = 0\n",
    "a = 0\n",
    "for i in range(0, len(cfdc)+1):\n",
    "    if (cfdc.page_viewed[i:i+1].values > 0):\n",
    "        a = a+1\n",
    "        cfdc['new_session'][i:i+1]= a\n",
    "    else: \n",
    "        cfdc['new_session'][i:i+1] = np.nan\n"
   ]
  },
  {
   "cell_type": "markdown",
   "metadata": {},
   "source": [
    "### Backfills missing data values \n",
    "#### 1) Needed to backfill values that were missing in order to correctly sort data into user visit groupings"
   ]
  },
  {
   "cell_type": "code",
   "execution_count": 6,
   "metadata": {},
   "outputs": [],
   "source": [
    "cfdc = cfdc.drop(['title', 'type', 'goal', 'revenue'],axis =1)\n",
    "\n",
    "cfdc = cfdc.fillna(method = 'ffill')\n",
    "\n",
    "cfdc.date = cfdc.date.fillna(method = 'ffill')\n",
    "\n",
    "cfdc = cfdc.drop_duplicates(subset = None, keep = 'first', inplace = False)\n",
    "\n",
    "cfdc = cfdc.reset_index()"
   ]
  },
  {
   "cell_type": "markdown",
   "metadata": {},
   "source": [
    "### Creates time split function and time labels \n",
    "\n",
    "#### 1) Creates time splitting functions for the time the user visited a webpage and the duration of time the user stayed on the webpage. This was done to create the proper format for model utilization"
   ]
  },
  {
   "cell_type": "code",
   "execution_count": 49,
   "metadata": {},
   "outputs": [],
   "source": [
    "def timesplit(time):\n",
    "\n",
    "    c = time.split()\n",
    "\n",
    "    d = list(c[0])\n",
    "    \n",
    "    e = list(c[1])\n",
    "\n",
    "    d.remove(':')\n",
    "\n",
    "    if len(d) > 3:\n",
    "        final = int(d[0]+d[1])\n",
    "        \n",
    "    elif len(d) <= 3:\n",
    "        final = int(d[0])\n",
    "        \n",
    "    if e[0] == 'P':\n",
    "        final = final + 12\n",
    "    else:\n",
    "        final = final \n",
    "    \n",
    "    return(final)\n"
   ]
  },
  {
   "cell_type": "code",
   "execution_count": 53,
   "metadata": {},
   "outputs": [],
   "source": [
    "def timesplit_duration(time):\n",
    "\n",
    "    c = time.split()\n",
    "\n",
    "    d = list(c[0])\n",
    "    \n",
    "    d.remove(':')\n",
    "\n",
    "    if len(d) > 3:\n",
    "        final = int(d[0]+d[1])\n",
    "        \n",
    "    elif len(d) <= 3:\n",
    "        final = int(d[0])\n",
    "        \n",
    "    \n",
    "    return(final)\n"
   ]
  },
  {
   "cell_type": "code",
   "execution_count": 54,
   "metadata": {},
   "outputs": [],
   "source": [
    "final_time = []\n",
    "\n",
    "for i in range(0, len(cfdc)):\n",
    "    final = timesplit_duration(cfdc.session_duration[i])\n",
    "    \n",
    "    final_time.append(final)\n",
    "    \n",
    "cfdc['duration_labels'] = final_time\n"
   ]
  },
  {
   "cell_type": "code",
   "execution_count": 52,
   "metadata": {},
   "outputs": [],
   "source": [
    "final_time = []\n",
    "\n",
    "for i in range(0, len(cfdc)):\n",
    "    final = timesplit(cfdc.time[i])\n",
    "    \n",
    "    final_time.append(final)\n",
    "    \n",
    "cfdc['time_labels'] = final_time\n"
   ]
  },
  {
   "cell_type": "markdown",
   "metadata": {},
   "source": [
    "### Filters out for only visits in which the user hit more than one page\n",
    "\n",
    "#### 1) Because basic Google Analytics can provide the descriptive analytics behind what pages we hit only one time, the focus was scoped to only provide predictions AFTER the user had landed on the initial page. Therefore, the pages viewed needed to be > 2 per session"
   ]
  },
  {
   "cell_type": "code",
   "execution_count": 60,
   "metadata": {},
   "outputs": [],
   "source": [
    "cfdc = cfdc[cfdc.page_viewed > 2]"
   ]
  },
  {
   "cell_type": "markdown",
   "metadata": {},
   "source": [
    "### Reverses the dataframe and adds sequence count\n",
    "\n",
    "#### 1) Arranges the pages visited in ascending order"
   ]
  },
  {
   "cell_type": "code",
   "execution_count": 61,
   "metadata": {},
   "outputs": [],
   "source": [
    "cfdc['sequence'] = cfdc.iloc[::-1].groupby('new_session')['new_session'].cumcount()+1\n",
    "    \n"
   ]
  },
  {
   "cell_type": "markdown",
   "metadata": {},
   "source": [
    "### Creates unique category labels for features\n",
    "\n",
    "#### 1) The models need to utilize unique label identifiers to find correlations within the data. Therefore, category labels are utilized. "
   ]
  },
  {
   "cell_type": "code",
   "execution_count": 56,
   "metadata": {
    "scrolled": false
   },
   "outputs": [],
   "source": [
    "cfdc['page_title'] = cfdc['page_title'].astype('category')\n",
    "\n",
    "cfdc['page_title_labels'] = cfdc['page_title'].cat.codes\n",
    "\n",
    "\n",
    "cfdc['channel'] = cfdc['channel'].astype('category')\n",
    "\n",
    "cfdc['channel_labels'] = cfdc['channel'].cat.codes\n",
    "\n",
    "\n",
    "cfdc['device'] = cfdc['device'].astype('category')\n",
    "\n",
    "cfdc['device_labels'] = cfdc['device'].cat.codes"
   ]
  },
  {
   "cell_type": "markdown",
   "metadata": {},
   "source": [
    "### Features and Discrete \n",
    "\n",
    "#### 1) The main features utilized in prediciting the user experience."
   ]
  },
  {
   "cell_type": "code",
   "execution_count": 63,
   "metadata": {},
   "outputs": [],
   "source": [
    "features = ['sequence', 'channel_labels', 'time_labels', 'device_labels', 'duration_labels']\n",
    "\n",
    "discrete = ['page_title_labels']"
   ]
  },
  {
   "cell_type": "code",
   "execution_count": 66,
   "metadata": {
    "scrolled": true
   },
   "outputs": [
    {
     "name": "stdout",
     "output_type": "stream",
     "text": [
      "Overall KyleBoost: 0.538862433862434\n",
      "Overall Random Forest: 0.45061507936507955\n",
      "Overall Gradient Boost: 0.48780423280423285\n"
     ]
    }
   ],
   "source": [
    "session_list = list(cfdc.new_session.unique())\n",
    "\n",
    "session_list = session_list\n",
    "\n",
    "acc_list_xg = []\n",
    "acc_list_rf = []\n",
    "acc_list_gb = []\n",
    "acc_list_combo = []\n",
    "\n",
    "n_estimators = 100\n",
    "\n",
    "for i in session_list:\n",
    "    \n",
    "    train = cfdc[cfdc.new_session != i]\n",
    "    test = cfdc[cfdc.new_session == i]\n",
    "    \n",
    "    X_train = train[features]\n",
    "    y_train = train[discrete].values.ravel()\n",
    "\n",
    "    X_test = test[features]\n",
    "    y_test = test[discrete].values.ravel()\n",
    "    \n",
    "    RF = RFC(n_estimators = n_estimators)\n",
    "    GB = GBC(n_estimators = n_estimators)\n",
    "    XG = XGB(n_estimators = n_estimators)\n",
    "\n",
    "    RF.fit(X_train, y_train)\n",
    "    GB.fit(X_train, y_train)\n",
    "    XG.fit(X_train, y_train)\n",
    "\n",
    "    rf_pred = RF.predict(X_test)\n",
    "    gb_pred = GB.predict(X_test)\n",
    "    xg_pred = XG.predict(X_test)\n",
    "\n",
    "    accuracy_rf = RF.score(X_test, y_test)\n",
    "    accuracy_gb = GB.score(X_test, y_test)\n",
    "    accuracy_xg = XG.score(X_test, y_test)\n",
    "    \n",
    "    ##if len(y_test) < 3:\n",
    "      #  acc_list.append(accuracy_rf)\n",
    "   # else:\n",
    "    acc_list_xg.append(accuracy_xg)\n",
    "    acc_list_rf.append(accuracy_rf)\n",
    "    acc_list_gb.append(accuracy_gb)\n",
    "     \n",
    "\n",
    "print('Overall KyleBoost:', sum(acc_list_xg)/len(acc_list_xg))\n",
    "print('Overall Random Forest:', sum(acc_list_rf)/len(acc_list_rf))\n",
    "print('Overall Gradient Boost:', sum(acc_list_gb)/len(acc_list_gb)) \n",
    "\n",
    "    "
   ]
  },
  {
   "cell_type": "markdown",
   "metadata": {},
   "source": [
    "### Model Value Counts\n",
    "\n",
    "  #### 1) This counts the accuracies of the model against the test data. Again, the overall goal was to achieve a higher number of 100% accuracies than any other accuracy. This means that the model was 100% accurate in predicting not only the pages hit within the website but also the order that they were hit.\n",
    "  \n",
    "  #### 2) As we can see, the model had a 100% accuracy count of 50. The amount that the model was >75% accurate in predicting was approximately 32% of the time. "
   ]
  },
  {
   "cell_type": "code",
   "execution_count": 68,
   "metadata": {
    "scrolled": true
   },
   "outputs": [
    {
     "data": {
      "text/plain": [
       "1.000000    50\n",
       "0.500000    39\n",
       "0.000000    30\n",
       "0.333333    20\n",
       "0.666667    18\n",
       "0.250000     9\n",
       "0.750000     5\n",
       "0.200000     4\n",
       "0.600000     2\n",
       "0.400000     1\n",
       "0.285714     1\n",
       "0.142857     1\n",
       "Name: avg, dtype: int64"
      ]
     },
     "execution_count": 68,
     "metadata": {},
     "output_type": "execute_result"
    }
   ],
   "source": [
    "rf = pd.DataFrame(acc_list_xg)\n",
    "                  \n",
    "rf.columns = ['avg']\n",
    "\n",
    "rf.avg.value_counts()"
   ]
  },
  {
   "cell_type": "markdown",
   "metadata": {},
   "source": [
    "### Feature Importances\n",
    "\n",
    "#### 1) By examining the features, the feature that had the greatest impact in determing the sequenced outcome is found.\n",
    "#### 2) In this case for the most accurate model (KyleBoost), the channel labels was the features that had the greatest impact in reducing Gini. "
   ]
  },
  {
   "cell_type": "code",
   "execution_count": 69,
   "metadata": {
    "scrolled": false
   },
   "outputs": [
    {
     "name": "stdout",
     "output_type": "stream",
     "text": [
      "                Importance %\n",
      "Features                    \n",
      "channel_labels      0.323589\n",
      "sequence            0.214534\n",
      "duration_labels     0.181807\n",
      "device_labels       0.170551\n",
      "time_labels         0.109519\n"
     ]
    },
    {
     "data": {
      "image/png": "[encoded data removed]",
      "text/plain": [
       "<Figure size 1080x720 with 1 Axes>"
      ]
     },
     "metadata": {},
     "output_type": "display_data"
    }
   ],
   "source": [
    "plt.figure(figsize = (15, 10))\n",
    "\n",
    "feature_imp = (XG.feature_importances_)\n",
    "\n",
    "importances = pd.DataFrame([features,feature_imp])\n",
    "\n",
    "final = importances.transpose()\n",
    "\n",
    "final.columns = ['Features', 'Importance %']\n",
    "\n",
    "final = final.sort_values(by = 'Importance %', ascending = False)\n",
    "\n",
    "final = final.set_index('Features')\n",
    "\n",
    "print(final)\n",
    "\n",
    "#a = final['Importance %'].plot(kind = 'pie', color = 'r', alpha = .5,figsize=(20,10))\n",
    "\n",
    "labels = features\n",
    "sizes = feature_imp\n",
    "colors = ['gold', 'yellowgreen', 'lightcoral', 'lightskyblue', 'red']\n",
    "explode = (0, 0.1, 0, 0, 0) \n",
    "\n",
    "plt.pie(sizes, explode=explode, labels=labels, colors=colors, autopct='%1.1f%%', shadow=True, startangle=180)\n",
    "\n",
    "plt.show()\n"
   ]
  },
  {
   "cell_type": "markdown",
   "metadata": {},
   "source": [
    "## Setting up for Apyori Algorithm analyses"
   ]
  },
  {
   "cell_type": "code",
   "execution_count": 219,
   "metadata": {},
   "outputs": [],
   "source": [
    "df_final = pd.DataFrame()\n",
    "\n",
    "for session in np.unique(cfdc.new_session):\n",
    "    \n",
    "    a = session\n",
    "\n",
    "    b = list(cfdc.page_title[cfdc.new_session == session])\n",
    "    \n",
    "    b.reverse()\n",
    "    \n",
    "    b.append('exit')\n",
    "    \n",
    "    dictionary = {a:b}\n",
    "\n",
    "    df_1 = pd.DataFrame(dictionary)\n",
    "\n",
    "    df_2 = df_1.transpose()\n",
    "\n",
    "    df_final = pd.concat([df_final, df_2])\n",
    "    \n"
   ]
  },
  {
   "cell_type": "code",
   "execution_count": 220,
   "metadata": {
    "scrolled": true
   },
   "outputs": [],
   "source": [
    "records = []\n",
    "\n",
    "for i in range(0, len(df_final)):\n",
    "    record = (([str(df_final.values[i,j]) for j in range(0, len(df_final.columns))]))\n",
    "    \n",
    "    for ele in record:\n",
    "        if (ele == 'nan'):\n",
    "            record.remove(ele)\n",
    "    for ele in record:\n",
    "        if (ele == 'nan'):\n",
    "            record.remove(ele)\n",
    "    for ele in record:\n",
    "        if (ele == 'nan'):\n",
    "            record.remove(ele)\n",
    "    for ele in record:\n",
    "        if (ele == 'nan'):\n",
    "            record.remove(ele)\n",
    "    for ele in record:\n",
    "        if (ele == 'nan'):\n",
    "            record.remove(ele)\n",
    "    for ele in record:\n",
    "        if (ele == 'nan'):\n",
    "            record.remove(ele)\n",
    "    for ele in record:\n",
    "        if (ele == 'nan'):\n",
    "            record.remove(ele)\n",
    "    for ele in record:\n",
    "        if (ele == 'nan'):\n",
    "            record.remove(ele)\n",
    "    for ele in record:\n",
    "        if (ele == 'nan'):\n",
    "            record.remove(ele)\n",
    "\n",
    "    records.append(record)\n",
    "    #records.remove('exit'), 'exit'"
   ]
  },
  {
   "cell_type": "code",
   "execution_count": 70,
   "metadata": {},
   "outputs": [],
   "source": [
    "association_rules = ap(records, min_support = .0005, min_confidence = 1/(len(cfdc)), min_lift = .5, min_length = 2)"
   ]
  },
  {
   "cell_type": "code",
   "execution_count": 71,
   "metadata": {},
   "outputs": [
    {
     "name": "stdout",
     "output_type": "stream",
     "text": [
      "275\n"
     ]
    }
   ],
   "source": [
    "association_results = list(association_rules)\n",
    "print(len(association_results))"
   ]
  },
  {
   "cell_type": "code",
   "execution_count": 72,
   "metadata": {},
   "outputs": [],
   "source": [
    "final = pd.DataFrame()\n",
    "\n",
    "for i in range(0, (len(association_results))):\n",
    "    \n",
    "    a = association_results[i]\n",
    "    \n",
    "    if len(a[0]) > 0:\n",
    "        b = (pd.DataFrame(a[2]))\n",
    "        final = pd.concat([final, b])\n",
    "    "
   ]
  },
  {
   "cell_type": "code",
   "execution_count": 73,
   "metadata": {
    "scrolled": true
   },
   "outputs": [
    {
     "name": "stderr",
     "output_type": "stream",
     "text": [
      "IOPub data rate exceeded.\n",
      "The notebook server will temporarily stop sending output\n",
      "to the client in order to avoid crashing it.\n",
      "To change this limit, set the config variable\n",
      "`--NotebookApp.iopub_data_rate_limit`.\n",
      "\n",
      "Current values:\n",
      "NotebookApp.iopub_data_rate_limit=1000000.0 (bytes/sec)\n",
      "NotebookApp.rate_limit_window=3.0 (secs)\n",
      "\n"
     ]
    }
   ],
   "source": [
    "for item in association_results:\n",
    "    pair = item[0]\n",
    "    items = [x for x in pair]\n",
    "   \n",
    "    if (len(pair) > 1) & (len(pair) <= 2): \n",
    "        \n",
    "        print('Rule: ' + str(items[0] + '-> '+ items[1] ) )\n",
    "\n",
    "        print('Support: ' + str(item[1]))\n",
    "\n",
    "        print('Confidence: ' + str(item[2][0][2]))\n",
    "        print('Lift: ' + str(item[2][0][3]))\n",
    "\n",
    "        print('Number of Occurrences: ' + str(item[1] * len(records)))\n",
    "        \n",
    "        print('=============================')\n",
    "        \n",
    "        \n",
    "        \n",
    "    elif (len(pair) > 2) & (len(pair) <= 4): \n",
    "        \n",
    "        print('Rule: '+ items[2]   + '-> '+ items[1]  + '-> '+ str(items[0]))\n",
    "\n",
    "        print('Support: ' + str(item[1]))\n",
    "\n",
    "        print('Confidence: ' + str(item[2][0][2]))\n",
    "        print('Lift: ' + str(item[2][0][3]))\n",
    "        \n",
    "        print('Number of Occurrences: ' + str(item[2] * len(records)))\n",
    "        print('=============================')\n",
    "        \n",
    "      \n",
    "    elif (len(pair) > 3) & (len(pair) <= 5 & (item[0] != 'exit')): \n",
    "        \n",
    "        print('Rule: '+ items[0] + '-> '+ items[1] + '-> '+ items[2] + '-> '+ items[3]  + '-> '+ items[4] )\n",
    "\n",
    "        print('Support: ' + str(item[1]))\n",
    "\n",
    "        print('Confidence: ' + str(item[2][0][2]))\n",
    "        print('Lift: ' + str(item[2][0][3]))\n",
    "        \n",
    "        #print('Number of Occurrences: ' + str(item[0] * len(records)))\n",
    "\n",
    "        print('=============================')\n",
    "\n",
    "      "
   ]
  }
 ],
 "metadata": {
  "kernelspec": {
   "display_name": "Python 3",
   "language": "python",
   "name": "python3"
  },
  "language_info": {
   "codemirror_mode": {
    "name": "ipython",
    "version": 3
   },
   "file_extension": ".py",
   "mimetype": "text/x-python",
   "name": "python",
   "nbconvert_exporter": "python",
   "pygments_lexer": "ipython3",
   "version": "3.7.3"
  }
 },
 "nbformat": 4,
 "nbformat_minor": 2
}
